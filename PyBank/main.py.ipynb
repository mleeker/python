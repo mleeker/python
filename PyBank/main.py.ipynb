{
 "cells": [
  {
   "cell_type": "code",
   "execution_count": 1,
   "metadata": {},
   "outputs": [],
   "source": [
    "#import dependensies\n",
    "import csv\n",
    "import os"
   ]
  },
  {
   "cell_type": "code",
   "execution_count": 5,
   "metadata": {},
   "outputs": [
    {
     "name": "stdout",
     "output_type": "stream",
     "text": [
      "Total Months: \n",
      "41\n",
      "Total Revenue: $ 18971412.0\n",
      "Avg. Reveune Change: $ -6758.975\n",
      "Greatest Increase in Revenue:  Jan-16 $ 1837235.0\n",
      "Greatest Decrease in Revenue:  Jul-14 $ -1779747.0\n"
     ]
    }
   ],
   "source": [
    "budget_data = os.path.join(\".\",\"budget_data_1.csv\")\n",
    "\n",
    "with open(budget_data) as csvfile:\n",
    "    budget_csv = csv.reader(csvfile)\n",
    "\n",
    "    next(budget_csv) \n",
    "    revenue = []\n",
    "    rev_change = []\n",
    "    date = []\n",
    "    \n",
    "    for row in budget_csv: \n",
    "        date.append(row[0])\n",
    "        revenue.append(float(row[1]))\n",
    "        \n",
    "        \n",
    "    for i in range(1,len(revenue)):\n",
    "        rev_change.append(revenue[i] - revenue[i-1])   \n",
    "        avg_rev_change = sum(rev_change)/len(rev_change)   \n",
    "        \n",
    "    max_rev_change = max(rev_change)\n",
    "    max_rev_change_date = str(date[rev_change.index(max(rev_change))])\n",
    "\n",
    "    min_rev_change = min(rev_change)\n",
    "    min_rev_change_date = str(date[rev_change.index(min(rev_change))])\n",
    "\n",
    "        \n",
    "print(\"Total Months: \")\n",
    "print(len(date))\n",
    "    \n",
    "print\"Total Revenue: $\", sum(revenue)\n",
    "    \n",
    "print\"Avg. Reveune Change: $\", avg_rev_change\n",
    "\n",
    "print\"Greatest Increase in Revenue: \", max_rev_change_date, \"$\", max_rev_change \n",
    "\n",
    "print\"Greatest Decrease in Revenue: \", min_rev_change_date, \"$\", min_rev_change\n"
   ]
  },
  {
   "cell_type": "code",
   "execution_count": null,
   "metadata": {},
   "outputs": [],
   "source": [
    "#export to text file\n",
    "text_path = os.path.join(budget_csv, budget_csv + \".txt\")\n",
    "with open(text_path, \"w\") as text_file:\n",
    "    text_file.write()"
   ]
  },
  {
   "cell_type": "code",
   "execution_count": null,
   "metadata": {},
   "outputs": [],
   "source": []
  }
 ],
 "metadata": {
  "kernelspec": {
   "display_name": "Python 2",
   "language": "python",
   "name": "python2"
  },
  "language_info": {
   "codemirror_mode": {
    "name": "ipython",
    "version": 2
   },
   "file_extension": ".py",
   "mimetype": "text/x-python",
   "name": "python",
   "nbconvert_exporter": "python",
   "pygments_lexer": "ipython2",
   "version": "2.7.14"
  }
 },
 "nbformat": 4,
 "nbformat_minor": 2
}
