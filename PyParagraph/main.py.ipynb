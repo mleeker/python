{
 "cells": [
  {
   "cell_type": "code",
   "execution_count": 1,
   "metadata": {},
   "outputs": [],
   "source": [
    "#Import Dependensies \n",
    "import csv\n",
    "import os\n",
    "import re"
   ]
  },
  {
   "cell_type": "code",
   "execution_count": 2,
   "metadata": {},
   "outputs": [
    {
     "data": {
      "text/plain": [
       "'Gene expression in mammals is regulated by noncoding elements that can affect physiology and disease, yet the functions and target genes of most noncoding elements remain unknown. We present a high-throughput approach that uses clustered regularly interspaced short palindromic repeats (CRISPR) interference (CRISPRi) to discover regulatory elements and identify their target genes. We assess >1 megabase of sequence in the vicinity of two essential transcription factors, MYC and GATA1, and identify nine distal enhancers that control gene expression and cellular proliferation. Quantitative features of chromatin state and chromosome conformation distinguish the seven enhancers that regulate MYC from other elements that do not, suggesting a strategy for predicting enhancer\\xe2\\x80\\x93promoter connectivity. This CRISPRi-based approach can be applied to dissect transcriptional networks and interpret the contributions of noncoding genetic variation to human disease.'"
      ]
     },
     "execution_count": 2,
     "metadata": {},
     "output_type": "execute_result"
    }
   ],
   "source": [
    "#Open Text File \n",
    "para_file = os.path.join('.','paragraph_1.txt')\n",
    "with open(para_file, 'r') as text: \n",
    "    lines=text.read()\n",
    "lines"
   ]
  },
  {
   "cell_type": "code",
   "execution_count": 12,
   "metadata": {},
   "outputs": [
    {
     "name": "stdout",
     "output_type": "stream",
     "text": [
      "Number of words:\n",
      "130\n"
     ]
    }
   ],
   "source": [
    "#Word Count\n",
    "num_words = 0\n",
    "with open(para_file, 'r') as text:\n",
    "    for line in text:\n",
    "        words = line.split()\n",
    "        num_words += len(words)\n",
    "print(\"Number of words:\")\n",
    "print(num_words)"
   ]
  },
  {
   "cell_type": "code",
   "execution_count": 14,
   "metadata": {},
   "outputs": [
    {
     "name": "stdout",
     "output_type": "stream",
     "text": [
      "Sentance Count: \n",
      "6\n"
     ]
    }
   ],
   "source": [
    "#Sentance Count\n",
    "sent_count = 0\n",
    "with open(para_file, 'r') as text:\n",
    "    for line in text:\n",
    "        words = line.split('.')\n",
    "        sent_count += len(words)\n",
    "print ('Sentance Count: ')\n",
    "print(sent_count)\n",
    "    "
   ]
  },
  {
   "cell_type": "code",
   "execution_count": 17,
   "metadata": {},
   "outputs": [
    {
     "name": "stdout",
     "output_type": "stream",
     "text": [
      "Avg. Letter Count: \n",
      "7\n"
     ]
    }
   ],
   "source": [
    "#Letter Count per Word\n",
    "\n",
    "letters = 0\n",
    "with open(para_file, 'r') as text:\n",
    "        letters = letters + len(lines)\n",
    "        avg_letters = letters/num_words\n",
    "#avg_letters = (letters/word_count)\n",
    "print (\"Avg. Letter Count: \")\n",
    "print(avg_letters)\n",
    "    "
   ]
  },
  {
   "cell_type": "code",
   "execution_count": 18,
   "metadata": {},
   "outputs": [
    {
     "name": "stdout",
     "output_type": "stream",
     "text": [
      "Avg. Sentence Length: \n",
      "21\n"
     ]
    }
   ],
   "source": [
    "#Avg. sentance length \n",
    "#re.split(\"(?&lt;=[.!?]) +\", file) = avg_sent\n",
    "avg_sent = num_words/sent_count\n",
    "print(\"Avg. Sentence Length: \")\n",
    "print(avg_sent)"
   ]
  },
  {
   "cell_type": "code",
   "execution_count": null,
   "metadata": {},
   "outputs": [],
   "source": []
  },
  {
   "cell_type": "code",
   "execution_count": null,
   "metadata": {},
   "outputs": [],
   "source": []
  }
 ],
 "metadata": {
  "kernelspec": {
   "display_name": "Python 2",
   "language": "python",
   "name": "python2"
  },
  "language_info": {
   "codemirror_mode": {
    "name": "ipython",
    "version": 2
   },
   "file_extension": ".py",
   "mimetype": "text/x-python",
   "name": "python",
   "nbconvert_exporter": "python",
   "pygments_lexer": "ipython2",
   "version": "2.7.14"
  }
 },
 "nbformat": 4,
 "nbformat_minor": 2
}
